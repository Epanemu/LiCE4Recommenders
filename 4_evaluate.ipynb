{
 "cells": [
  {
   "cell_type": "code",
   "execution_count": 2,
   "id": "e1c9c9d1-ac2a-4d0c-bd2f-084ba27820ce",
   "metadata": {},
   "outputs": [],
   "source": [
    "import pickle\n",
    "import pandas as pd\n",
    "import numpy as np\n",
    "\n",
    "cached = {}\n",
    "\n",
    "def load(data_name, fold, group_f, rating, ll, nth, topk):\n",
    "    path = f\"data_splits/{data_name}/{fold}/CEs/stats_{group_f}_{rating}_{ll}_{nth}_{topk}.pickle\"\n",
    "    if path in cached:\n",
    "        return cached[path]\n",
    "    try:\n",
    "        with open(path, \"rb\") as f:\n",
    "            allstats = pickle.load(f)\n",
    "    except FileNotFoundError:\n",
    "        return {}\n",
    "    cached[path] = allstats\n",
    "    return allstats\n"
   ]
  },
  {
   "cell_type": "code",
   "execution_count": 3,
   "id": "35802e9d-6105-45fd-b156-f52d7c21c373",
   "metadata": {},
   "outputs": [],
   "source": [
    "def get_val_for_confs(valnames, dataname=[\"yelp\", \"netflix\", \"amazon\"], aggf=[\"sum\", \"mean\", \"disjunction\"], rating=[\"rating\", \"binary\"], ll=[\"median\", \"0.1\", \"no_spn\"], ordering=[\"score\", \"nth\"], topk=[5, 10]):\n",
    "    all_vals, all_fails = [], 0\n",
    "    if type(valnames) != list:\n",
    "        valnames = [valnames]\n",
    "    for dname in dataname:\n",
    "        for af in aggf:\n",
    "            for rat in rating:\n",
    "                for l in ll:\n",
    "                    for ord in ordering:\n",
    "                        for tk in topk:\n",
    "                            vals, fails = get_val_for_conf(valnames, dname, af, rat, l, ord, tk)\n",
    "                            all_vals += vals\n",
    "                            all_fails += fails\n",
    "    return all_vals, all_fails\n",
    "\n",
    "def get_val_for_conf(valnames, dataname, aggf, rating, ll, ordering, topk):\n",
    "    vals = []\n",
    "    fails = 0\n",
    "    for fold in range(3):\n",
    "        data = load(dataname, fold, aggf, rating, ll, ordering, topk)\n",
    "        if len(data) == 0 and ll == \"no_spn\":\n",
    "            data = load(dataname, fold, \"mean\", rating, ll, ordering, topk)\n",
    "            if valnames == [\"counterfactual_ll\"]:\n",
    "                ce_vecs = []\n",
    "                for fid, CEs in data.items():\n",
    "                    for ce in CEs.values():\n",
    "                        if \"counterfactual\" in ce:\n",
    "                            ce_vecs.append(ce[\"counterfactual\"])\n",
    "                        else:\n",
    "                            fails += 1\n",
    "                vals += eval_sample_lls(ce_vecs, dataname, fold, aggf, rating)\n",
    "                continue\n",
    "        for fid, CEs in data.items():\n",
    "            for ce in CEs.values():\n",
    "                if all(valname in ce for valname in valnames):\n",
    "                    if len(valnames) == 1:\n",
    "                        vals.append(ce[valnames[0]])\n",
    "                    else:\n",
    "                        vals.append([ce[valname] for valname in valnames])\n",
    "                else:\n",
    "                    fails += 1\n",
    "    return vals, fails\n"
   ]
  },
  {
   "cell_type": "code",
   "execution_count": 4,
   "id": "43409637-818e-4bf4-b6dd-b25e198533fc",
   "metadata": {},
   "outputs": [],
   "source": [
    "spns_cache = {}\n",
    "\n",
    "def eval_sample_lls(samples, data_name, fold, group_f, rating):\n",
    "    path = f\"data_splits/{data_name}/{fold}/models/spn_{group_f}_{rating}.pickle\"\n",
    "    if path in spns_cache:\n",
    "        spn, groups = spns_cache[path]\n",
    "    try:\n",
    "        with open(path, \"rb\") as f:\n",
    "            spn, _ = pickle.load(f)\n",
    "        with open(f\"data_splits/{data_name}/{fold}/groups.pickle\", \"rb\") as f:\n",
    "            (groups, _) = pickle.load(f)\n",
    "        with open(f\"data_splits/{data_name}/{fold}/items_{rating}.pickle\", \"rb\") as f:\n",
    "            item_map = pickle.load(f)\n",
    "        groups = [np.array([item_map[item] for item in items]) for items in groups]\n",
    "        spns_cache[path] = spn, groups\n",
    "    except FileNotFoundError:\n",
    "        print(\"No SPN found\")\n",
    "        return np.nan\n",
    "    \n",
    "    lls = []\n",
    "    for sample in samples:\n",
    "        cf = np.array(sample)\n",
    "        if group_f == \"sum\":\n",
    "            spn_cf = [cf[g].sum() for g in groups]\n",
    "        elif group_f == \"mean\":\n",
    "            spn_cf = [cf[g].mean() for g in groups]\n",
    "        elif group_f == \"disjunction\":\n",
    "            spn_cf = [(cf[g].sum() > 0).astype(int) for g in groups]\n",
    "        lls.append(spn.compute_ll(np.array(spn_cf)))\n",
    "    return lls"
   ]
  },
  {
   "cell_type": "code",
   "execution_count": 5,
   "id": "f813bd3a-b409-4a32-af6e-98bb57873bd7",
   "metadata": {},
   "outputs": [
    {
     "name": "stdout",
     "output_type": "stream",
     "text": [
      "11.075806282504345\n"
     ]
    }
   ],
   "source": [
    "vals, fails = get_val_for_confs(\"time_solving\")\n",
    "print(np.median(vals))"
   ]
  },
  {
   "cell_type": "code",
   "execution_count": 4,
   "id": "368e41b3-e41c-4b91-bc08-6a9692fe77f0",
   "metadata": {},
   "outputs": [
    {
     "name": "stdout",
     "output_type": "stream",
     "text": [
      "amazon\n",
      "1.00 & 0.99 & 0.97 & 0.97 & 0.92 & 1.00 & 0.00 & 0.00 & 1.00 & 1.00 & \\\\\n",
      "1.00 & 0.95 & 1.00 & 1.00 & 0.94 & 0.95 & 0.00 & 0.00 & 1.00 & 1.00 & \\\\\n",
      "yelp\n",
      "1.00 & 1.00 & 0.30 & 0.07 & 0.86 & 0.00 & 0.00 & 0.00 & 1.00 & 1.00 & \\\\\n",
      "1.00 & 1.00 & 0.95 & 0.88 & 1.00 & 0.00 & 0.00 & 0.00 & 1.00 & 1.00 & \\\\\n",
      "netflix\n",
      "1.00 & 1.00 & 0.70 & 0.51 & 0.99 & 0.00 & 0.00 & 0.33 & 1.00 & 1.00 & \\\\\n",
      "1.00 & 1.00 & 0.89 & 0.62 & 1.00 & 0.00 & 0.00 & 0.33 & 1.00 & 1.00 & \\\\\n"
     ]
    }
   ],
   "source": [
    "for data in [\"amazon\", \"yelp\", \"netflix\"]:\n",
    "    print(data)               \n",
    "    for nth in [\"nth\", \"score\"]:\n",
    "        for ll in [\"0.1\", \"median\", \"no_spn\"]:\n",
    "            for rat in [\"binary\", \"rating\"]:\n",
    "                for topk in [[5, 10]]:\n",
    "                    all_fs = [\"disjunction\", \"sum\", \"mean\"]\n",
    "                    if ll == \"no_spn\" or rat == \"rating\":\n",
    "                        all_fs = [\"mean\"]\n",
    "                    for af in all_fs:\n",
    "                        vals, fails = get_val_for_confs(\"counterfactual\", dataname=[data], aggf=[af], rating=[rat], ll=[ll], topk=topk, ordering=[nth])\n",
    "                        print(f\"{len(vals) / (len(vals) + fails):.2f}\", end = \" & \")\n",
    "        print(\"\\\\\\\\\")\n"
   ]
  },
  {
   "cell_type": "code",
   "execution_count": 5,
   "id": "cff84742-fbe3-411c-9de1-b8c3e869d7bc",
   "metadata": {},
   "outputs": [
    {
     "name": "stdout",
     "output_type": "stream",
     "text": [
      "0.086 & "
     ]
    }
   ],
   "source": [
    "val = [\"timeout\",\"counterfactual\"]\n",
    "\n",
    "vals, fails = get_val_for_confs(val)\n",
    "if len(vals) != 0:\n",
    "    touts, ces = [list(v) for v in zip(*vals)]\n",
    "else:\n",
    "    touts, ces = [], []\n",
    "\n",
    "print(f\"{np.mean(touts):.3f}\", end = \" & \")"
   ]
  },
  {
   "cell_type": "code",
   "execution_count": 6,
   "id": "30952a14-46c2-40a7-8022-a763b1c6dc49",
   "metadata": {},
   "outputs": [
    {
     "name": "stdout",
     "output_type": "stream",
     "text": [
      "0.03 & 0.23 &  \\\\\n",
      "0.65 & 0.99 &  \\\\\n",
      "0.00 & nan &  \\\\\n"
     ]
    },
    {
     "name": "stderr",
     "output_type": "stream",
     "text": [
      "/tmp/ipykernel_743249/2669145695.py:12: RuntimeWarning: invalid value encountered in scalar divide\n",
      "  print(f\"{(fails - np.sum(all_touts) + np.sum(touts)) / fails:.2f}\", end = \" & \")\n"
     ]
    }
   ],
   "source": [
    "val = [\"timeout\",\"counterfactual\"]\n",
    "\n",
    "for ll in [\"0.1\", \"median\", \"no_spn\"]:\n",
    "    all_touts, _ = get_val_for_confs(\"timeout\", ll=[ll])\n",
    "    vals, fails = get_val_for_confs(val, ll=[ll])\n",
    "    if len(vals) != 0:\n",
    "        touts, ces = [list(v) for v in zip(*vals)]\n",
    "    else:\n",
    "        touts, ces = [], []\n",
    "\n",
    "    print(f\"{(fails - np.sum(all_touts) + np.sum(touts)) / len(all_touts):.2f}\", end = \" & \")\n",
    "    print(f\"{(fails - np.sum(all_touts) + np.sum(touts)) / fails:.2f}\", end = \" & \")\n",
    "    print(\" \\\\\\\\\")"
   ]
  },
  {
   "cell_type": "code",
   "execution_count": 7,
   "id": "1c5ce0a3-1f30-4249-ab62-9bcea7d93cf7",
   "metadata": {},
   "outputs": [
    {
     "name": "stdout",
     "output_type": "stream",
     "text": [
      "amazon\n",
      " & nth & $-18.44 \\pm 12.23$ & $-12.08 \\pm 3.16$ & $-19.57 \\pm 13.45$ & $1695 \\pm 31$ & $1693 \\pm 34$ & $1.16 \\pm 0.49$ & $2.60 \\pm 3.24$ & $1.08 \\pm 0.43$ & $2.11 \\pm 2.16$ & $0.66 \\pm 0.38$ &  \\\\\n",
      " & score & $-18.40 \\pm 11.93$ & $-12.21 \\pm 3.42$ & $-19.61 \\pm 13.42$ & $1695 \\pm 35$ & $1694 \\pm 34$ & $1.19 \\pm 0.46$ & $2.82 \\pm 3.94$ & $1.11 \\pm 0.37$ & $2.33 \\pm 3.19$ & $0.54 \\pm 0.37$ &  \\\\\n",
      "yelp\n",
      " & nth & $-89.11 \\pm 38.68$ & $-78.33 \\pm 13.72$ & $-103.21 \\pm 46.04$ & $3185 \\pm 113$ & $3122 \\pm 148$ & $2.71 \\pm 2.04$ & $4.16 \\pm 7.69$ & $1.65 \\pm 0.98$ & $2.54 \\pm 1.98$ & $1.07 \\pm 0.86$ &  \\\\\n",
      " & score & $-89.23 \\pm 39.80$ & $-82.42 \\pm 14.69$ & $-103.06 \\pm 45.99$ & $3184 \\pm 84$ & $3122 \\pm 148$ & $2.44 \\pm 1.57$ & $5.02 \\pm 10.89$ & $1.62 \\pm 0.89$ & $6.92 \\pm 5.17$ & $1.01 \\pm 0.79$ &  \\\\\n",
      "netflix\n",
      " & nth & $-23.44 \\pm 9.10$ & $-19.67 \\pm 2.89$ & $-23.61 \\pm 9.25$ & $381 \\pm 44$ & $367 \\pm 60$ & $0.71 \\pm 1.03$ & $4.07 \\pm 8.34$ & $0.69 \\pm 0.90$ & $0.53 \\pm 1.13$ & $0.39 \\pm 0.73$ &  \\\\\n",
      " & score & $-23.33 \\pm 9.11$ & $-19.66 \\pm 2.86$ & $-23.62 \\pm 9.18$ & $385 \\pm 45$ & $368 \\pm 60$ & $2.07 \\pm 1.37$ & $4.87 \\pm 5.57$ & $2.07 \\pm 1.37$ & $1.84 \\pm 4.01$ & $1.28 \\pm 1.12$ &  \\\\\n"
     ]
    }
   ],
   "source": [
    "for data in [\"amazon\", \"yelp\", \"netflix\"]:\n",
    "    print(data)               \n",
    "    for nth in [\"nth\", \"score\"]:\n",
    "        print(f\" & {nth} & \", end=\"\")\n",
    "        for val in [\"counterfactual_ll\", \"distance\"]:\n",
    "            for rat in [\"binary\", \"rating\"]:\n",
    "                for ll in ([\"0.1\", \"median\", \"no_spn\"] if rat == \"binary\" else [\"0.1\", \"no_spn\"]):\n",
    "                    for topk in [[5, 10]]:\n",
    "                        af = \"disjunction\" if rat == \"binary\" else \"mean\"\n",
    "                        vals, fails = get_val_for_confs(val, dataname=[data], aggf=[af], rating=[rat], ll=[ll], topk=topk, ordering=[nth])\n",
    "                        if np.mean(vals) > 300:\n",
    "                            print(f\"${np.mean(vals):.0f} \\\\pm {np.std(vals):.0f}$\", end = \" & \")\n",
    "                        else:\n",
    "                            print(f\"${np.mean(vals):.2f} \\\\pm {np.std(vals):.2f}$\", end = \" & \")\n",
    "        print(\" \\\\\\\\\")"
   ]
  }
 ],
 "metadata": {
  "kernelspec": {
   "display_name": "Python 3 (ipykernel)",
   "language": "python",
   "name": "python3"
  },
  "language_info": {
   "codemirror_mode": {
    "name": "ipython",
    "version": 3
   },
   "file_extension": ".py",
   "mimetype": "text/x-python",
   "name": "python",
   "nbconvert_exporter": "python",
   "pygments_lexer": "ipython3",
   "version": "3.11.0"
  }
 },
 "nbformat": 4,
 "nbformat_minor": 5
}
